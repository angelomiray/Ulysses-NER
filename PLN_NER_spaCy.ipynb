{
  "nbformat": 4,
  "nbformat_minor": 0,
  "metadata": {
    "colab": {
      "provenance": []
    },
    "kernelspec": {
      "name": "python3",
      "display_name": "Python 3"
    },
    "language_info": {
      "name": "python"
    }
  },
  "cells": [
    {
      "cell_type": "markdown",
      "source": [
        "# 📚 Treinamento de Modelo NER com spaCy\n",
        "\n",
        "## 📑 Análise de Projetos de Lei e Consultas Legislativas da Câmara dos Deputados\n",
        "\n",
        "Este notebook apresenta o processo de **treinamento** e **avaliação** de um modelo de **Reconhecimento de Entidades Nomeadas (NER)** utilizando a biblioteca **spaCy**.\n",
        "  \n",
        "O conjunto de dados utilizado é composto por **projetos de lei** e **consultas legislativas** da **Câmara dos Deputados do Brasil**, extraídos do corpus **[UlyssesNER-Br: A Corpus of Brazilian Legislative Documents for Named Entity Recognition](https://github.com/Convenio-Camara-dos-Deputados/ulyssesner-br-propor/tree/main/PL-corpus_v2/ulysses_categories/holdout)**.\n"
      ],
      "metadata": {
        "id": "x3Ps2mPGcVau"
      }
    },
    {
      "cell_type": "markdown",
      "source": [
        "## ⚙️ Carregamento e Pré-processamento\n",
        "\n",
        "O repositório definido para o desenvolvimento possui a divisão *holdout* em três partes: **train**, **dev** e **test**. Estes dados foram extraídos diretamente do repositório via `requests` e, na sequência, passaram por um pipeline de pré-processamento que garante a estrutura correta para o treinamento do modelo de NER.\n",
        "\n",
        "Cada etapa tem sua função específica:\n",
        "\n",
        "- **Carregar em formato `Dataset`**: Permite manipular os dados de forma estruturada e eficiente, facilitando a aplicação de funções de transformação, filtragem e mapeamento dos exemplos.\n",
        "\n",
        "- **Mapear rótulos (BIO) para IDs**: Converte rótulos de texto para valores numéricos, que são necessários para o modelo aprender as classes de forma otimizada e sem ambiguidades.\n",
        "\n",
        "- **Converter sequência BIO em spans de entidades**: Transforma a sequência de rótulos em informações de posição no texto, delimitando onde cada entidade realmente começa e termina.\n",
        "\n",
        "- **Unir rótulos B- e I-**: Garante que cada entidade seja representada como um único bloco contínuo no texto.\n",
        "\n",
        "- **Preparar lista final para treino**: Formata os dados em pares `(texto, entidades)` prontos para serem transformados em objetos do spaCy.\n",
        "\n",
        "- **Converter para `DocBin` do spaCy**: Gera um arquivo binário otimizado que o spaCy utiliza para treinar o modelo.\n",
        "\n",
        "Essas etapas asseguram que os dados estejam prontos e padronizados para o treinamento do modelo com spaCy."
      ],
      "metadata": {
        "id": "bYRUmP0ncVY-"
      }
    },
    {
      "cell_type": "code",
      "execution_count": null,
      "metadata": {
        "id": "N3KVxF6CC-i4"
      },
      "outputs": [],
      "source": [
        "import requests, json\n",
        "from datasets import Dataset\n",
        "import numpy as np\n",
        "from datasets import load_metric"
      ]
    },
    {
      "cell_type": "code",
      "source": [
        "base_url = \"https://raw.githubusercontent.com/Convenio-Camara-dos-Deputados/ulyssesner-br-propor/main/PL-corpus_v2/ulysses_categories/holdout/\"\n",
        "urls = {\n",
        "    \"train\": base_url + \"train.json\",\n",
        "    \"dev\": base_url + \"dev.json\",\n",
        "    \"test\": base_url + \"test.json\"\n",
        "}"
      ],
      "metadata": {
        "id": "C667FZRLDLgc"
      },
      "execution_count": null,
      "outputs": []
    },
    {
      "cell_type": "code",
      "source": [
        "def load_data(url):\n",
        "    r = requests.get(url)\n",
        "    return json.loads(r.text)"
      ],
      "metadata": {
        "id": "bwy_Mq3aDNKD"
      },
      "execution_count": null,
      "outputs": []
    },
    {
      "cell_type": "code",
      "source": [
        "train_data = load_data(urls[\"train\"])\n",
        "dev_data = load_data(urls[\"dev\"])\n",
        "test_data = load_data(urls[\"test\"])"
      ],
      "metadata": {
        "id": "JtKXvpPGDOmz"
      },
      "execution_count": null,
      "outputs": []
    },
    {
      "cell_type": "code",
      "source": [
        "def prepare_dataset(data):\n",
        "    return {\n",
        "        \"tokens\": [ex[\"tokens\"] for ex in data],\n",
        "        \"ner_tags\": [ex[\"ner_tokens\"] for ex in data]\n",
        "    }"
      ],
      "metadata": {
        "id": "H6WWfPs-DR6X"
      },
      "execution_count": null,
      "outputs": []
    },
    {
      "cell_type": "code",
      "source": [
        "train_dict = prepare_dataset(train_data)\n",
        "dev_dict = prepare_dataset(dev_data)\n",
        "test_dict = prepare_dataset(test_data)"
      ],
      "metadata": {
        "id": "EdA1Rf3lDUD8"
      },
      "execution_count": null,
      "outputs": []
    },
    {
      "cell_type": "code",
      "source": [
        "train_dataset = Dataset.from_dict(train_dict)\n",
        "dev_dataset = Dataset.from_dict(dev_dict)\n",
        "test_dataset = Dataset.from_dict(test_dict)"
      ],
      "metadata": {
        "id": "z3bkaIiGDVts"
      },
      "execution_count": null,
      "outputs": []
    },
    {
      "cell_type": "code",
      "source": [
        "unique_labels = list(set(label for doc in train_dict[\"ner_tags\"] for label in doc))\n",
        "unique_labels.sort()\n",
        "\n",
        "label_to_id = {l: i for i, l in enumerate(unique_labels)}\n",
        "id_to_label = {i: l for i, l in enumerate(unique_labels)}\n",
        "\n",
        "print(\"Labels:\", unique_labels)"
      ],
      "metadata": {
        "colab": {
          "base_uri": "https://localhost:8080/"
        },
        "id": "tbzloXKqDiu1",
        "outputId": "6f8164ea-d6fa-45b2-ed00-42aa76459913"
      },
      "execution_count": null,
      "outputs": [
        {
          "output_type": "stream",
          "name": "stdout",
          "text": [
            "Labels: ['B-DATA', 'B-EVENTO', 'B-FUNDAMENTO', 'B-LOCAL', 'B-ORGANIZACAO', 'B-PESSOA', 'B-PRODUTODELEI', 'I-DATA', 'I-EVENTO', 'I-FUNDAMENTO', 'I-LOCAL', 'I-ORGANIZACAO', 'I-PESSOA', 'I-PRODUTODELEI', 'O']\n"
          ]
        }
      ]
    },
    {
      "cell_type": "code",
      "source": [
        "def convert_to_entity_dicts(data: dict) -> tuple[list[dict], str]:\n",
        "    \"\"\"\n",
        "    Converte tokens + ner_tags em spans (start, end, label, text).\n",
        "    \"\"\"\n",
        "    tokens = data[\"tokens\"]\n",
        "    ner_tags = data[\"ner_tags\"]\n",
        "\n",
        "    # Se as tags forem strings, mantém; se forem IDs, converte:\n",
        "    if isinstance(ner_tags[0], int):\n",
        "        ner_tags = [id_to_label[tag_id] for tag_id in ner_tags]\n",
        "\n",
        "    entity_dicts = []\n",
        "    original_text = \" \".join(tokens)\n",
        "\n",
        "    i = 0\n",
        "    while i < len(tokens):\n",
        "        if ner_tags[i] != \"O\":\n",
        "            label = ner_tags[i]\n",
        "            start_index = len(\" \".join(tokens[:i])) + int(i > 0)\n",
        "            start_token_idx = i\n",
        "\n",
        "            while i < len(tokens) and ner_tags[i] == label:\n",
        "                i += 1\n",
        "            end_index = len(\" \".join(tokens[:i]))\n",
        "            entity_text = \" \".join(tokens[start_token_idx:i])\n",
        "\n",
        "            entity_dicts.append(\n",
        "                {\n",
        "                    \"start\": start_index,\n",
        "                    \"end\": end_index,\n",
        "                    \"label\": label,\n",
        "                    \"text\": entity_text,\n",
        "                }\n",
        "            )\n",
        "        else:\n",
        "            i += 1\n",
        "\n",
        "    return entity_dicts, original_text\n",
        "\n",
        "\n",
        "def merge_entities_of_same_type(text: str, entity_spans: list[dict]) -> list[dict]:\n",
        "    \"\"\"\n",
        "    Junta B- e I- em um único span por tipo.\n",
        "    \"\"\"\n",
        "    merged_entity_spans = []\n",
        "    i = 0\n",
        "    while i < len(entity_spans):\n",
        "        if entity_spans[i][\"label\"].startswith(\"B-\"):\n",
        "            start_idx = entity_spans[i][\"start\"]\n",
        "            end_idx = entity_spans[i][\"end\"]\n",
        "            entity_type = entity_spans[i][\"label\"][2:]\n",
        "            entity_text = entity_spans[i][\"text\"]\n",
        "            j = i + 1\n",
        "\n",
        "            while (\n",
        "                j < len(entity_spans)\n",
        "                and entity_spans[j][\"label\"] == f\"I-{entity_type}\"\n",
        "            ):\n",
        "                end_idx = entity_spans[j][\"end\"]\n",
        "                entity_text = text[start_idx:end_idx]\n",
        "                j += 1\n",
        "\n",
        "            merged_entity_spans.append(\n",
        "                {\n",
        "                    \"start\": start_idx,\n",
        "                    \"end\": end_idx,\n",
        "                    \"label\": entity_type,\n",
        "                    \"text\": entity_text,\n",
        "                }\n",
        "            )\n",
        "            i = j\n",
        "        else:\n",
        "            label = entity_spans[i][\"label\"]\n",
        "            if label.startswith((\"B-\", \"I-\")):\n",
        "                label = label[2:]\n",
        "            merged_entity_spans.append(\n",
        "                {\n",
        "                    \"start\": entity_spans[i][\"start\"],\n",
        "                    \"end\": entity_spans[i][\"end\"],\n",
        "                    \"label\": label,\n",
        "                    \"text\": entity_spans[i][\"text\"],\n",
        "                }\n",
        "            )\n",
        "            i += 1\n",
        "\n",
        "    return merged_entity_spans\n"
      ],
      "metadata": {
        "id": "M1E_etUxDo1G"
      },
      "execution_count": null,
      "outputs": []
    },
    {
      "cell_type": "code",
      "source": [
        "train_dataset[0]"
      ],
      "metadata": {
        "colab": {
          "base_uri": "https://localhost:8080/"
        },
        "id": "edQMZfmAEv7n",
        "outputId": "401fafdb-e49e-44b5-e9c7-b63e504f9968"
      },
      "execution_count": null,
      "outputs": [
        {
          "output_type": "execute_result",
          "data": {
            "text/plain": [
              "{'tokens': ['sala', 'das', 'sessões', ',', 'em', 'de', 'de', '2019', '.'],\n",
              " 'ner_tags': ['O', 'O', 'O', 'O', 'O', 'O', 'O', 'B-DATA', 'O']}"
            ]
          },
          "metadata": {},
          "execution_count": 35
        }
      ]
    },
    {
      "cell_type": "code",
      "source": [
        "ner_dict, text = convert_to_entity_dicts(train_dataset[0])\n",
        "ner_dict, text"
      ],
      "metadata": {
        "colab": {
          "base_uri": "https://localhost:8080/"
        },
        "id": "61NMuaPuE5Cz",
        "outputId": "265e96d4-b3ed-4861-8c0a-20dce9b85167"
      },
      "execution_count": null,
      "outputs": [
        {
          "output_type": "execute_result",
          "data": {
            "text/plain": [
              "([{'start': 28, 'end': 32, 'label': 'B-DATA', 'text': '2019'}],\n",
              " 'sala das sessões , em de de 2019 .')"
            ]
          },
          "metadata": {},
          "execution_count": 36
        }
      ]
    },
    {
      "cell_type": "code",
      "source": [
        "ner_dict = merge_entities_of_same_type(text, ner_dict)\n",
        "ner_dict"
      ],
      "metadata": {
        "colab": {
          "base_uri": "https://localhost:8080/"
        },
        "id": "r4RN259qFwng",
        "outputId": "195f601a-c805-4609-a555-4b8cf6a697ee"
      },
      "execution_count": null,
      "outputs": [
        {
          "output_type": "execute_result",
          "data": {
            "text/plain": [
              "[{'start': 28, 'end': 32, 'label': 'DATA', 'text': '2019'}]"
            ]
          },
          "metadata": {},
          "execution_count": 37
        }
      ]
    },
    {
      "cell_type": "code",
      "source": [
        "from spacy import displacy\n",
        "from termcolor import colored\n",
        "\n",
        "def render_named_entities_terminal(text, ner_dict):\n",
        "    \"\"\"\n",
        "    Imprime o texto com entidades destacadas no terminal.\n",
        "    \"\"\"\n",
        "    spans = sorted(ner_dict, key=lambda x: x['start'])\n",
        "    output = \"\"\n",
        "    last_idx = 0\n",
        "\n",
        "    for ent in spans:\n",
        "        output += text[last_idx:ent['start']]\n",
        "        output += colored(text[ent['start']:ent['end']], 'green')\n",
        "        output += f\"[{ent['label']}]\"\n",
        "        last_idx = ent['end']\n",
        "\n",
        "    output += text[last_idx:]\n",
        "    print(output)\n"
      ],
      "metadata": {
        "id": "ZYdg97AdF0k-"
      },
      "execution_count": null,
      "outputs": []
    },
    {
      "cell_type": "code",
      "source": [
        "render_named_entities(text, ner_dict)"
      ],
      "metadata": {
        "colab": {
          "base_uri": "https://localhost:8080/",
          "height": 52
        },
        "id": "HHw9A4mYGFOk",
        "outputId": "a04a474f-b919-48e7-b693-6fbdbc40bc66"
      },
      "execution_count": null,
      "outputs": [
        {
          "output_type": "display_data",
          "data": {
            "text/plain": [
              "<IPython.core.display.HTML object>"
            ],
            "text/html": [
              "<span class=\"tex2jax_ignore\"><div class=\"entities\" style=\"line-height: 2.5; direction: ltr\">sala das sessões , em de de \n",
              "<mark class=\"entity\" style=\"background: #ddd; padding: 0.45em 0.6em; margin: 0 0.25em; line-height: 1; border-radius: 0.35em;\">\n",
              "    2019\n",
              "    <span style=\"font-size: 0.8em; font-weight: bold; line-height: 1; border-radius: 0.35em; vertical-align: middle; margin-left: 0.5rem\">DATA</span>\n",
              "</mark>\n",
              " .</div></span>"
            ]
          },
          "metadata": {}
        }
      ]
    },
    {
      "cell_type": "code",
      "source": [
        "def prepare_data_for_training(dataset, id2label):\n",
        "    \"\"\"\n",
        "    Converte Dataset HuggingFace para lista de (text, entities).\n",
        "    Usa suas funções convert_to_entity_dicts + merge_entities_of_same_type.\n",
        "\n",
        "    Args:\n",
        "        dataset: Dataset do HuggingFace.\n",
        "        id2label: dict mapeando ID → label (BIO).\n",
        "\n",
        "    Returns:\n",
        "        list[tuple[str, list[dict]]]: Cada item é (text, entities)\n",
        "    \"\"\"\n",
        "    prepared_data = []\n",
        "\n",
        "    for data_item in dataset:\n",
        "        entity_dicts, text = convert_to_entity_dicts(data_item)\n",
        "        entity_dicts = merge_entities_of_same_type(text, entity_dicts)\n",
        "        prepared_data.append((text, entity_dicts))\n",
        "\n",
        "    return prepared_data\n"
      ],
      "metadata": {
        "id": "g3ACGUGdGaEU"
      },
      "execution_count": null,
      "outputs": []
    },
    {
      "cell_type": "code",
      "source": [
        "training_data = prepare_data_for_training(train_dataset, id_to_label)\n",
        "validation_data = prepare_data_for_training(dev_dataset, id_to_label)\n",
        "test_data = prepare_data_for_training(test_dataset, id_to_label)\n"
      ],
      "metadata": {
        "id": "tF_L6JOyHIAb"
      },
      "execution_count": null,
      "outputs": []
    },
    {
      "cell_type": "code",
      "source": [
        "import spacy\n",
        "from spacy.tokens import DocBin\n",
        "\n",
        "# Load a new blank spaCy model for Portuguese\n",
        "nlp = spacy.blank(\"pt\")\n",
        "\n",
        "\n",
        "def convert_to_spacy(data_list):\n",
        "    \"\"\"\n",
        "    Converts a list of texts and their annotations to a spaCy DocBin object.\n",
        "\n",
        "    Args:\n",
        "        data_list (list): A list of tuples containing the text and annotations.\n",
        "            Each annotation should be a dictionary with keys \"start\", \"end\", \"label\", and \"text\".\n",
        "\n",
        "    Returns:\n",
        "        DocBin: A spaCy DocBin object containing the labeled texts.\n",
        "    \"\"\"\n",
        "    # Create a DocBin object to store the processed documents\n",
        "    db = DocBin()\n",
        "\n",
        "    # Iterate over each text and its corresponding annotations in the data list\n",
        "    for text, annot in data_list:\n",
        "        # Create a spaCy Doc object from the text\n",
        "        doc = nlp.make_doc(text)\n",
        "        ents = []\n",
        "        seen_tokens = set()\n",
        "\n",
        "        # Iterate over each annotation dictionary\n",
        "        for entity in annot:\n",
        "            start = entity[\"start\"]\n",
        "            end = entity[\"end\"]\n",
        "            label = entity[\"label\"]\n",
        "\n",
        "            # Create a span for the entity using character indexes.\n",
        "            span = doc.char_span(start, end, label=label, alignment_mode=\"contract\")\n",
        "\n",
        "            # If the span is None, the character span does not align with token boundaries.\n",
        "            if span is None:\n",
        "                print(\n",
        "                    f\"Skipping entity [{start}, {end}, {label}] in the following text because \"\n",
        "                    f\"the character span '{text[start:end]}' does not align with token boundaries:\\n\\n{text}\\n\"\n",
        "                )\n",
        "            else:\n",
        "                # Check for overlapping tokens\n",
        "                if any(token.i in seen_tokens for token in span):\n",
        "                    continue\n",
        "                else:\n",
        "                    # Add the span to the list of entities\n",
        "                    ents.append(span)\n",
        "                    seen_tokens.update(token.i for token in span)\n",
        "\n",
        "        # Assign the list of entities to the doc.ents attribute\n",
        "        doc.ents = ents\n",
        "\n",
        "        # Add the processed document to the DocBin object\n",
        "        db.add(doc)\n",
        "\n",
        "    # Return the DocBin object containing all the processed documents\n",
        "    return db"
      ],
      "metadata": {
        "id": "g0TpDB2HHIif"
      },
      "execution_count": null,
      "outputs": []
    },
    {
      "cell_type": "code",
      "source": [
        "# Example usage:\n",
        "# Assuming training_data, validation_data, and test_data are defined somewhere,\n",
        "# and each annotation is now a dict with keys \"start\", \"end\", \"label\", and \"text\".\n",
        "db_train = convert_to_spacy(training_data)\n",
        "db_valid = convert_to_spacy(validation_data)\n",
        "db_test = convert_to_spacy(test_data)"
      ],
      "metadata": {
        "id": "b16A_eAoHgEH"
      },
      "execution_count": null,
      "outputs": []
    },
    {
      "cell_type": "code",
      "source": [
        "\n",
        "from pathlib import Path\n",
        "\n",
        "output_dir = Path(\"./outputs/spacy\")  # output directory\n",
        "output_dir.mkdir(parents=True, exist_ok=True)  # create the output directory"
      ],
      "metadata": {
        "id": "QfCWmNbJHkAt"
      },
      "execution_count": null,
      "outputs": []
    },
    {
      "cell_type": "code",
      "source": [
        "# Save the data to disk\n",
        "db_train.to_disk(\"./outputs/spacy/train.spacy\")\n",
        "db_valid.to_disk(\"./outputs/spacy/valid.spacy\")\n",
        "db_test.to_disk(\"./outputs/spacy/test.spacy\")"
      ],
      "metadata": {
        "id": "SznafuqxHlD5"
      },
      "execution_count": null,
      "outputs": []
    },
    {
      "cell_type": "code",
      "source": [
        "# If we want to load it later\n",
        "from spacy.tokens import DocBin\n",
        "\n",
        "db_train = DocBin().from_disk(\"./outputs/spacy/train.spacy\")\n",
        "db_valid = DocBin().from_disk(\"./outputs/spacy/valid.spacy\")\n",
        "db_test = DocBin().from_disk(\"./outputs/spacy/test.spacy\")\n",
        "len(db_train), len(db_valid), len(db_test)"
      ],
      "metadata": {
        "colab": {
          "base_uri": "https://localhost:8080/"
        },
        "id": "L9B8ZFEjHmNS",
        "outputId": "ccd7c80e-0d97-4d2e-ec3d-632ff55d0b3e"
      },
      "execution_count": null,
      "outputs": [
        {
          "output_type": "execute_result",
          "data": {
            "text/plain": [
              "(1760, 140, 592)"
            ]
          },
          "metadata": {},
          "execution_count": 46
        }
      ]
    },
    {
      "cell_type": "markdown",
      "source": [
        "# ⚙️ Criação da Configuração e Treinamento do Modelo\n",
        "\n",
        "Após preparar os dados no formato `DocBin`, é necessário criar o arquivo de configuração do spaCy, que define os parâmetros de linguagem, pipeline, otimização e caminhos de entrada/saída do modelo.  \n",
        "\n",
        "O comando `spacy init config` gera esse arquivo `config.cfg` automaticamente, ajustado para o idioma **português**, com o pipeline `ner` (Reconhecimento de Entidades Nomeadas) e otimizações para maior eficiência de processamento.\n",
        "\n",
        "Em seguida, o comando `spacy train` executa o treinamento do modelo, utilizando os dados de treino e validação convertidos anteriormente."
      ],
      "metadata": {
        "id": "46XjlfnGnMzu"
      }
    },
    {
      "cell_type": "code",
      "source": [
        "# Creating the config file\n",
        "! python -m spacy init config \"./outputs/spacy/config.cfg\" --lang pt --pipeline ner --optimize efficiency --force"
      ],
      "metadata": {
        "colab": {
          "base_uri": "https://localhost:8080/"
        },
        "id": "OinohL_hHprZ",
        "outputId": "41168c75-62b3-4776-b708-5a04c3a28bd9"
      },
      "execution_count": null,
      "outputs": [
        {
          "output_type": "stream",
          "name": "stdout",
          "text": [
            "\u001b[38;5;3m⚠ To generate a more effective transformer-based config (GPU-only),\n",
            "install the spacy-transformers package and re-run this command. The config\n",
            "generated now does not use transformers.\u001b[0m\n",
            "\u001b[38;5;4mℹ Generated config template specific for your use case\u001b[0m\n",
            "- Language: pt\n",
            "- Pipeline: ner\n",
            "- Optimize for: efficiency\n",
            "- Hardware: CPU\n",
            "- Transformer: None\n",
            "\u001b[38;5;2m✔ Auto-filled config with all values\u001b[0m\n",
            "\u001b[38;5;2m✔ Saved config\u001b[0m\n",
            "outputs/spacy/config.cfg\n",
            "You can now add your data and train your pipeline:\n",
            "python -m spacy train config.cfg --paths.train ./train.spacy --paths.dev ./dev.spacy\n"
          ]
        }
      ]
    },
    {
      "cell_type": "code",
      "source": [
        "# Training\n",
        "\n",
        "! python -m spacy train \"./outputs/spacy/config.cfg\" \\\n",
        "                        --output \"./outputs/spacy\" \\\n",
        "                        --paths.train \"./outputs/spacy/train.spacy\" \\\n",
        "                        --paths.dev \"./outputs/spacy/valid.spacy\""
      ],
      "metadata": {
        "colab": {
          "base_uri": "https://localhost:8080/"
        },
        "id": "gKN8QExZHsRZ",
        "outputId": "99077602-36e9-4428-94c6-55745f8a49d0"
      },
      "execution_count": null,
      "outputs": [
        {
          "output_type": "stream",
          "name": "stdout",
          "text": [
            "\u001b[38;5;4mℹ Saving to output directory: outputs/spacy\u001b[0m\n",
            "\u001b[38;5;4mℹ Using CPU\u001b[0m\n",
            "\u001b[1m\n",
            "=========================== Initializing pipeline ===========================\u001b[0m\n",
            "\u001b[38;5;2m✔ Initialized pipeline\u001b[0m\n",
            "\u001b[1m\n",
            "============================= Training pipeline =============================\u001b[0m\n",
            "\u001b[38;5;4mℹ Pipeline: ['tok2vec', 'ner']\u001b[0m\n",
            "\u001b[38;5;4mℹ Initial learn rate: 0.001\u001b[0m\n",
            "E    #       LOSS TOK2VEC  LOSS NER  ENTS_F  ENTS_P  ENTS_R  SCORE \n",
            "---  ------  ------------  --------  ------  ------  ------  ------\n",
            "  0       0          0.00     29.50    0.00    0.00    0.00    0.00\n",
            "  0     200       1213.82   1641.53   11.22   20.37    7.75    0.11\n",
            "  0     400        601.88   1104.12   28.31   40.26   21.83    0.28\n",
            "  0     600        248.62   1168.71   46.22   62.65   36.62    0.46\n",
            "  1     800       1371.28   1314.33   48.31   60.64   40.14    0.48\n",
            "  1    1000        479.88   1302.92   55.87   65.71   48.59    0.56\n",
            "  2    1200       1814.55   1223.75   58.17   66.97   51.41    0.58\n",
            "  3    1400        889.26   1278.00   66.42   70.63   62.68    0.66\n",
            "  4    1600       1047.03   1084.15   70.11   73.64   66.90    0.70\n",
            "  5    1800       2027.40   1107.62   69.29   78.57   61.97    0.69\n",
            "  7    2000       1394.18    929.61   73.00   79.34   67.61    0.73\n",
            "  9    2200       1763.00    843.83   75.94   81.45   71.13    0.76\n",
            " 11    2400       3773.39    815.41   71.94   81.98   64.08    0.72\n",
            " 14    2600       1400.99    660.62   72.45   78.05   67.61    0.72\n",
            " 17    2800       1586.75    562.78   71.04   78.63   64.79    0.71\n",
            " 19    3000       1146.47    438.84   70.90   75.40   66.90    0.71\n",
            " 22    3200       1602.68    479.34   74.07   78.12   70.42    0.74\n",
            " 24    3400       3168.68    487.17   74.71   83.48   67.61    0.75\n",
            " 27    3600       1337.01    415.68   73.96   79.67   69.01    0.74\n",
            " 29    3800       1628.43    381.19   71.54   78.81   65.49    0.72\n",
            "\u001b[38;5;2m✔ Saved pipeline to output directory\u001b[0m\n",
            "outputs/spacy/model-last\n"
          ]
        }
      ]
    },
    {
      "cell_type": "markdown",
      "source": [
        "# ✅ Avaliação do Modelo\n",
        "\n",
        "Após o término do treinamento, o modelo treinado é carregado a partir do diretório `model-best`, que contém a versão com o melhor desempenho validado automaticamente pelo spaCy.  \n",
        "\n",
        "Para avaliar a qualidade do modelo, utiliza-se o conjunto de **teste**, também convertido em formato `DocBin`. Cada exemplo do conjunto de teste é comparado com as predições do modelo por meio da classe `Example`, que alinha as entidades previstas com as entidades anotadas.\n",
        "\n",
        "O resultado da avaliação inclui métricas de desempenho como **precision**, **recall** e **F1-score** para cada tipo de entidade, além de métricas gerais do modelo.\n"
      ],
      "metadata": {
        "id": "r0e4L_bBnxv9"
      }
    },
    {
      "cell_type": "code",
      "source": [
        "# Evaluation\n",
        "from spacy.training.example import Example\n",
        "\n",
        "nlp_ner = spacy.load(\"./outputs/spacy/model-best\")\n",
        "db_test = DocBin().from_disk(\"./outputs/spacy/test.spacy\")\n",
        "\n",
        "\n",
        "examples = []\n",
        "for doc in db_test.get_docs(nlp_ner.vocab):\n",
        "    examples.append(Example(nlp_ner.make_doc(doc.text), doc))\n",
        "\n",
        "results_spacy = nlp_ner.evaluate(examples)\n",
        "results_spacy"
      ],
      "metadata": {
        "colab": {
          "base_uri": "https://localhost:8080/"
        },
        "id": "ASB_e9LOHxsG",
        "outputId": "c1d4d873-341d-4f6f-b04b-f90117de1a49"
      },
      "execution_count": null,
      "outputs": [
        {
          "output_type": "execute_result",
          "data": {
            "text/plain": [
              "{'token_acc': 1.0,\n",
              " 'token_p': 1.0,\n",
              " 'token_r': 1.0,\n",
              " 'token_f': 1.0,\n",
              " 'ents_p': 0.7594108019639935,\n",
              " 'ents_r': 0.651685393258427,\n",
              " 'ents_f': 0.7014361300075586,\n",
              " 'ents_per_type': {'PESSOA': {'p': 0.8256880733944955,\n",
              "   'r': 0.6666666666666666,\n",
              "   'f': 0.7377049180327869},\n",
              "  'PRODUTODELEI': {'p': 0.6595744680851063,\n",
              "   'r': 0.49206349206349204,\n",
              "   'f': 0.5636363636363635},\n",
              "  'ORGANIZACAO': {'p': 0.6972477064220184,\n",
              "   'r': 0.6129032258064516,\n",
              "   'f': 0.6523605150214592},\n",
              "  'FUNDAMENTO': {'p': 0.6987951807228916,\n",
              "   'r': 0.7945205479452054,\n",
              "   'f': 0.7435897435897436},\n",
              "  'DATA': {'p': 0.8860759493670886,\n",
              "   'r': 0.8333333333333334,\n",
              "   'f': 0.8588957055214723},\n",
              "  'LOCAL': {'p': 0.801980198019802,\n",
              "   'r': 0.5192307692307693,\n",
              "   'f': 0.6303501945525292},\n",
              "  'EVENTO': {'p': 0.0, 'r': 0.0, 'f': 0.0}},\n",
              " 'speed': 12131.672033139972}"
            ]
          },
          "metadata": {},
          "execution_count": 51
        }
      ]
    },
    {
      "cell_type": "code",
      "source": [
        "import pandas as pd\n",
        "\n",
        "pd.DataFrame(results_spacy[\"ents_per_type\"]).T"
      ],
      "metadata": {
        "colab": {
          "base_uri": "https://localhost:8080/",
          "height": 269
        },
        "id": "ZebifnqcH0CG",
        "outputId": "7057bb94-7a6d-4f6d-e7b0-341c5ee3b084"
      },
      "execution_count": null,
      "outputs": [
        {
          "output_type": "execute_result",
          "data": {
            "text/plain": [
              "                     p         r         f\n",
              "PESSOA        0.825688  0.666667  0.737705\n",
              "PRODUTODELEI  0.659574  0.492063  0.563636\n",
              "ORGANIZACAO   0.697248  0.612903  0.652361\n",
              "FUNDAMENTO    0.698795  0.794521  0.743590\n",
              "DATA          0.886076  0.833333  0.858896\n",
              "LOCAL         0.801980  0.519231  0.630350\n",
              "EVENTO        0.000000  0.000000  0.000000"
            ],
            "text/html": [
              "\n",
              "  <div id=\"df-6d153b26-6596-49d5-96a6-97fc80d32e5e\" class=\"colab-df-container\">\n",
              "    <div>\n",
              "<style scoped>\n",
              "    .dataframe tbody tr th:only-of-type {\n",
              "        vertical-align: middle;\n",
              "    }\n",
              "\n",
              "    .dataframe tbody tr th {\n",
              "        vertical-align: top;\n",
              "    }\n",
              "\n",
              "    .dataframe thead th {\n",
              "        text-align: right;\n",
              "    }\n",
              "</style>\n",
              "<table border=\"1\" class=\"dataframe\">\n",
              "  <thead>\n",
              "    <tr style=\"text-align: right;\">\n",
              "      <th></th>\n",
              "      <th>p</th>\n",
              "      <th>r</th>\n",
              "      <th>f</th>\n",
              "    </tr>\n",
              "  </thead>\n",
              "  <tbody>\n",
              "    <tr>\n",
              "      <th>PESSOA</th>\n",
              "      <td>0.825688</td>\n",
              "      <td>0.666667</td>\n",
              "      <td>0.737705</td>\n",
              "    </tr>\n",
              "    <tr>\n",
              "      <th>PRODUTODELEI</th>\n",
              "      <td>0.659574</td>\n",
              "      <td>0.492063</td>\n",
              "      <td>0.563636</td>\n",
              "    </tr>\n",
              "    <tr>\n",
              "      <th>ORGANIZACAO</th>\n",
              "      <td>0.697248</td>\n",
              "      <td>0.612903</td>\n",
              "      <td>0.652361</td>\n",
              "    </tr>\n",
              "    <tr>\n",
              "      <th>FUNDAMENTO</th>\n",
              "      <td>0.698795</td>\n",
              "      <td>0.794521</td>\n",
              "      <td>0.743590</td>\n",
              "    </tr>\n",
              "    <tr>\n",
              "      <th>DATA</th>\n",
              "      <td>0.886076</td>\n",
              "      <td>0.833333</td>\n",
              "      <td>0.858896</td>\n",
              "    </tr>\n",
              "    <tr>\n",
              "      <th>LOCAL</th>\n",
              "      <td>0.801980</td>\n",
              "      <td>0.519231</td>\n",
              "      <td>0.630350</td>\n",
              "    </tr>\n",
              "    <tr>\n",
              "      <th>EVENTO</th>\n",
              "      <td>0.000000</td>\n",
              "      <td>0.000000</td>\n",
              "      <td>0.000000</td>\n",
              "    </tr>\n",
              "  </tbody>\n",
              "</table>\n",
              "</div>\n",
              "    <div class=\"colab-df-buttons\">\n",
              "\n",
              "  <div class=\"colab-df-container\">\n",
              "    <button class=\"colab-df-convert\" onclick=\"convertToInteractive('df-6d153b26-6596-49d5-96a6-97fc80d32e5e')\"\n",
              "            title=\"Convert this dataframe to an interactive table.\"\n",
              "            style=\"display:none;\">\n",
              "\n",
              "  <svg xmlns=\"http://www.w3.org/2000/svg\" height=\"24px\" viewBox=\"0 -960 960 960\">\n",
              "    <path d=\"M120-120v-720h720v720H120Zm60-500h600v-160H180v160Zm220 220h160v-160H400v160Zm0 220h160v-160H400v160ZM180-400h160v-160H180v160Zm440 0h160v-160H620v160ZM180-180h160v-160H180v160Zm440 0h160v-160H620v160Z\"/>\n",
              "  </svg>\n",
              "    </button>\n",
              "\n",
              "  <style>\n",
              "    .colab-df-container {\n",
              "      display:flex;\n",
              "      gap: 12px;\n",
              "    }\n",
              "\n",
              "    .colab-df-convert {\n",
              "      background-color: #E8F0FE;\n",
              "      border: none;\n",
              "      border-radius: 50%;\n",
              "      cursor: pointer;\n",
              "      display: none;\n",
              "      fill: #1967D2;\n",
              "      height: 32px;\n",
              "      padding: 0 0 0 0;\n",
              "      width: 32px;\n",
              "    }\n",
              "\n",
              "    .colab-df-convert:hover {\n",
              "      background-color: #E2EBFA;\n",
              "      box-shadow: 0px 1px 2px rgba(60, 64, 67, 0.3), 0px 1px 3px 1px rgba(60, 64, 67, 0.15);\n",
              "      fill: #174EA6;\n",
              "    }\n",
              "\n",
              "    .colab-df-buttons div {\n",
              "      margin-bottom: 4px;\n",
              "    }\n",
              "\n",
              "    [theme=dark] .colab-df-convert {\n",
              "      background-color: #3B4455;\n",
              "      fill: #D2E3FC;\n",
              "    }\n",
              "\n",
              "    [theme=dark] .colab-df-convert:hover {\n",
              "      background-color: #434B5C;\n",
              "      box-shadow: 0px 1px 3px 1px rgba(0, 0, 0, 0.15);\n",
              "      filter: drop-shadow(0px 1px 2px rgba(0, 0, 0, 0.3));\n",
              "      fill: #FFFFFF;\n",
              "    }\n",
              "  </style>\n",
              "\n",
              "    <script>\n",
              "      const buttonEl =\n",
              "        document.querySelector('#df-6d153b26-6596-49d5-96a6-97fc80d32e5e button.colab-df-convert');\n",
              "      buttonEl.style.display =\n",
              "        google.colab.kernel.accessAllowed ? 'block' : 'none';\n",
              "\n",
              "      async function convertToInteractive(key) {\n",
              "        const element = document.querySelector('#df-6d153b26-6596-49d5-96a6-97fc80d32e5e');\n",
              "        const dataTable =\n",
              "          await google.colab.kernel.invokeFunction('convertToInteractive',\n",
              "                                                    [key], {});\n",
              "        if (!dataTable) return;\n",
              "\n",
              "        const docLinkHtml = 'Like what you see? Visit the ' +\n",
              "          '<a target=\"_blank\" href=https://colab.research.google.com/notebooks/data_table.ipynb>data table notebook</a>'\n",
              "          + ' to learn more about interactive tables.';\n",
              "        element.innerHTML = '';\n",
              "        dataTable['output_type'] = 'display_data';\n",
              "        await google.colab.output.renderOutput(dataTable, element);\n",
              "        const docLink = document.createElement('div');\n",
              "        docLink.innerHTML = docLinkHtml;\n",
              "        element.appendChild(docLink);\n",
              "      }\n",
              "    </script>\n",
              "  </div>\n",
              "\n",
              "\n",
              "    <div id=\"df-a2bc5a2f-061f-4846-adc4-1bf388d406d2\">\n",
              "      <button class=\"colab-df-quickchart\" onclick=\"quickchart('df-a2bc5a2f-061f-4846-adc4-1bf388d406d2')\"\n",
              "                title=\"Suggest charts\"\n",
              "                style=\"display:none;\">\n",
              "\n",
              "<svg xmlns=\"http://www.w3.org/2000/svg\" height=\"24px\"viewBox=\"0 0 24 24\"\n",
              "     width=\"24px\">\n",
              "    <g>\n",
              "        <path d=\"M19 3H5c-1.1 0-2 .9-2 2v14c0 1.1.9 2 2 2h14c1.1 0 2-.9 2-2V5c0-1.1-.9-2-2-2zM9 17H7v-7h2v7zm4 0h-2V7h2v10zm4 0h-2v-4h2v4z\"/>\n",
              "    </g>\n",
              "</svg>\n",
              "      </button>\n",
              "\n",
              "<style>\n",
              "  .colab-df-quickchart {\n",
              "      --bg-color: #E8F0FE;\n",
              "      --fill-color: #1967D2;\n",
              "      --hover-bg-color: #E2EBFA;\n",
              "      --hover-fill-color: #174EA6;\n",
              "      --disabled-fill-color: #AAA;\n",
              "      --disabled-bg-color: #DDD;\n",
              "  }\n",
              "\n",
              "  [theme=dark] .colab-df-quickchart {\n",
              "      --bg-color: #3B4455;\n",
              "      --fill-color: #D2E3FC;\n",
              "      --hover-bg-color: #434B5C;\n",
              "      --hover-fill-color: #FFFFFF;\n",
              "      --disabled-bg-color: #3B4455;\n",
              "      --disabled-fill-color: #666;\n",
              "  }\n",
              "\n",
              "  .colab-df-quickchart {\n",
              "    background-color: var(--bg-color);\n",
              "    border: none;\n",
              "    border-radius: 50%;\n",
              "    cursor: pointer;\n",
              "    display: none;\n",
              "    fill: var(--fill-color);\n",
              "    height: 32px;\n",
              "    padding: 0;\n",
              "    width: 32px;\n",
              "  }\n",
              "\n",
              "  .colab-df-quickchart:hover {\n",
              "    background-color: var(--hover-bg-color);\n",
              "    box-shadow: 0 1px 2px rgba(60, 64, 67, 0.3), 0 1px 3px 1px rgba(60, 64, 67, 0.15);\n",
              "    fill: var(--button-hover-fill-color);\n",
              "  }\n",
              "\n",
              "  .colab-df-quickchart-complete:disabled,\n",
              "  .colab-df-quickchart-complete:disabled:hover {\n",
              "    background-color: var(--disabled-bg-color);\n",
              "    fill: var(--disabled-fill-color);\n",
              "    box-shadow: none;\n",
              "  }\n",
              "\n",
              "  .colab-df-spinner {\n",
              "    border: 2px solid var(--fill-color);\n",
              "    border-color: transparent;\n",
              "    border-bottom-color: var(--fill-color);\n",
              "    animation:\n",
              "      spin 1s steps(1) infinite;\n",
              "  }\n",
              "\n",
              "  @keyframes spin {\n",
              "    0% {\n",
              "      border-color: transparent;\n",
              "      border-bottom-color: var(--fill-color);\n",
              "      border-left-color: var(--fill-color);\n",
              "    }\n",
              "    20% {\n",
              "      border-color: transparent;\n",
              "      border-left-color: var(--fill-color);\n",
              "      border-top-color: var(--fill-color);\n",
              "    }\n",
              "    30% {\n",
              "      border-color: transparent;\n",
              "      border-left-color: var(--fill-color);\n",
              "      border-top-color: var(--fill-color);\n",
              "      border-right-color: var(--fill-color);\n",
              "    }\n",
              "    40% {\n",
              "      border-color: transparent;\n",
              "      border-right-color: var(--fill-color);\n",
              "      border-top-color: var(--fill-color);\n",
              "    }\n",
              "    60% {\n",
              "      border-color: transparent;\n",
              "      border-right-color: var(--fill-color);\n",
              "    }\n",
              "    80% {\n",
              "      border-color: transparent;\n",
              "      border-right-color: var(--fill-color);\n",
              "      border-bottom-color: var(--fill-color);\n",
              "    }\n",
              "    90% {\n",
              "      border-color: transparent;\n",
              "      border-bottom-color: var(--fill-color);\n",
              "    }\n",
              "  }\n",
              "</style>\n",
              "\n",
              "      <script>\n",
              "        async function quickchart(key) {\n",
              "          const quickchartButtonEl =\n",
              "            document.querySelector('#' + key + ' button');\n",
              "          quickchartButtonEl.disabled = true;  // To prevent multiple clicks.\n",
              "          quickchartButtonEl.classList.add('colab-df-spinner');\n",
              "          try {\n",
              "            const charts = await google.colab.kernel.invokeFunction(\n",
              "                'suggestCharts', [key], {});\n",
              "          } catch (error) {\n",
              "            console.error('Error during call to suggestCharts:', error);\n",
              "          }\n",
              "          quickchartButtonEl.classList.remove('colab-df-spinner');\n",
              "          quickchartButtonEl.classList.add('colab-df-quickchart-complete');\n",
              "        }\n",
              "        (() => {\n",
              "          let quickchartButtonEl =\n",
              "            document.querySelector('#df-a2bc5a2f-061f-4846-adc4-1bf388d406d2 button');\n",
              "          quickchartButtonEl.style.display =\n",
              "            google.colab.kernel.accessAllowed ? 'block' : 'none';\n",
              "        })();\n",
              "      </script>\n",
              "    </div>\n",
              "\n",
              "    </div>\n",
              "  </div>\n"
            ],
            "application/vnd.google.colaboratory.intrinsic+json": {
              "type": "dataframe",
              "summary": "{\n  \"name\": \"pd\",\n  \"rows\": 7,\n  \"fields\": [\n    {\n      \"column\": \"p\",\n      \"properties\": {\n        \"dtype\": \"number\",\n        \"std\": 0.29912304227226544,\n        \"min\": 0.0,\n        \"max\": 0.8860759493670886,\n        \"num_unique_values\": 7,\n        \"samples\": [\n          0.8256880733944955,\n          0.6595744680851063,\n          0.801980198019802\n        ],\n        \"semantic_type\": \"\",\n        \"description\": \"\"\n      }\n    },\n    {\n      \"column\": \"r\",\n      \"properties\": {\n        \"dtype\": \"number\",\n        \"std\": 0.27801822245731556,\n        \"min\": 0.0,\n        \"max\": 0.8333333333333334,\n        \"num_unique_values\": 7,\n        \"samples\": [\n          0.6666666666666666,\n          0.49206349206349204,\n          0.5192307692307693\n        ],\n        \"semantic_type\": \"\",\n        \"description\": \"\"\n      }\n    },\n    {\n      \"column\": \"f\",\n      \"properties\": {\n        \"dtype\": \"number\",\n        \"std\": 0.28034705445292174,\n        \"min\": 0.0,\n        \"max\": 0.8588957055214723,\n        \"num_unique_values\": 7,\n        \"samples\": [\n          0.7377049180327869,\n          0.5636363636363635,\n          0.6303501945525292\n        ],\n        \"semantic_type\": \"\",\n        \"description\": \"\"\n      }\n    }\n  ]\n}"
            }
          },
          "metadata": {},
          "execution_count": 52
        }
      ]
    },
    {
      "cell_type": "markdown",
      "source": [
        "## 🔍 Análise dos Resultados de Avaliação\n",
        "\n",
        "- **Token accuracy** (`token_acc`): O valor 1.0 mostra que o modelo segmentou os tokens exatamente como esperado.\n",
        "  - Isso é típico quando se utiliza a tokenização padrão do spaCy em textos já limpos e bem formatados.\n",
        "\n",
        "- **Precision (`ents_p`) = 75.9%**: Dos spans de entidades previstos pelo modelo, aproximadamente 76% foram corretos — ou seja, a maior parte dos spans detectados realmente corresponde a entidades anotadas.\n",
        "\n",
        "- **Recall (`ents_r`) = 65.1%**: O modelo conseguiu recuperar cerca de 65% de todas as entidades reais presentes no conjunto de teste. Isso mostra que ainda há entidades que não foram reconhecidas (falsos negativos).\n",
        "\n",
        "- **F1-score (`ents_f`) = 70.1%**: A pontuação F1 combina **Precision** e **Recall**, fornecendo uma visão equilibrada da qualidade do modelo. Um valor acima de 70% é um bom ponto de partida, considerando a complexidade de textos legislativos.\n",
        "\n",
        "### 📊 Desempenho por Tipo de Entidade\n",
        "\n",
        "- **PESSOA**: Bom desempenho (F1-score ~73,7%) com alta Precision (82,5%), mas Recall moderado (66,6%), sugerindo que o modelo reconhece bem nomes, mas ainda deixa escapar alguns.\n",
        "- **PRODUTODELEI**: Desempenho mais baixo (F1-score ~56%), indicando maior dificuldade em identificar corretamente menções a projetos de lei ou documentos legislativos.\n",
        "- **ORGANIZACAO**: F1-score de ~65%, com equilíbrio entre Precision e Recall, mas ainda com espaço para melhorias.\n",
        "- **FUNDAMENTO**: F1-score de ~74%, destacando que o modelo identifica bem fundamentos legais ou citações de normas.\n",
        "- **DATA**: Melhor desempenho individual (F1-score ~85%), mostrando que datas são relativamente fáceis de capturar no contexto legislativo.\n",
        "- **LOCAL**: F1-score de ~63%, indicando que a detecção de localidades ainda tem variações — possivelmente por ambiguidades ou contextos complexos.\n",
        "- **EVENTO**: Resultado zerado (F1-score = 0), sugerindo que o conjunto de teste não contém exemplos marcados dessa classe, ou que o modelo não aprendeu a capturá-los.\n",
        "\n",
        "### ✅ Considerações Finais\n",
        "\n",
        "Em resumo, o modelo atinge uma qualidade satisfatória para uma primeira versão, mas ainda há espaço para melhorias:\n",
        "- Aumentar o volume de exemplos para classes com baixo Recall.\n",
        "- Refinar as anotações para reduzir inconsistências.\n",
        "- Explorar hiperparâmetros ou modelos base maiores, se necessário.\n"
      ],
      "metadata": {
        "id": "rrMcuMNLoPH6"
      }
    }
  ]
}